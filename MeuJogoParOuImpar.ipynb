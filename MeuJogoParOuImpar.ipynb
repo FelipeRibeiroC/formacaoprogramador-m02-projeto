{
  "nbformat": 4,
  "nbformat_minor": 0,
  "metadata": {
    "colab": {
      "provenance": []
    },
    "kernelspec": {
      "name": "python3",
      "display_name": "Python 3"
    },
    "language_info": {
      "name": "python"
    }
  },
  "cells": [
    {
      "cell_type": "code",
      "source": [
        "jogador1 = input('-> Digite o nome do primeiro jogador:')\n",
        "jogador2 = input('-> Digite o nome do segundo jogador:')\n",
        "\n",
        "print(f'// Quem escolhe primeiro, {jogador1} ou {jogador2}?')\n",
        "primeiro_jogador = input(f'-> Digite 1 para escolher {jogador1} ou 2 para escolher {jogador2}.')\n",
        "segundo_jogador = None\n",
        "\n",
        "if primeiro_jogador == '1':\n",
        "  primeiro_jogador = jogador1\n",
        "  segundo_jogador = jogador2\n",
        "elif primeiro_jogador == '2':\n",
        "  primeiro_jogador = jogador2\n",
        "  segundo_jogador = jogador1\n",
        "\n",
        "print('// Digite 0 para escolher PAR ou 1 para escolher ÍMPAR')\n",
        "escolha = input(f'-> {primeiro_jogador}, você quer par ou impar?')\n",
        "escolha2 = None\n",
        "\n",
        "if escolha == 'ímpar' or escolha == 'impar' or escolha == '1':\n",
        "  escolha = 'ímpar'\n",
        "  escolha2 = 'par'\n",
        "elif escolha == 'par' or escolha == '0':\n",
        "  escolha = 'par'\n",
        "  escolha2 = 'ímpar'\n",
        "\n",
        "print(f'// {segundo_jogador}, você ficou com {escolha2}.')\n",
        "\n",
        "numero1 = int(input(f'-> {primeiro_jogador}, escolha um número:'))\n",
        "numero2 = int(input(f'-> {segundo_jogador}, escolha um número:'))\n",
        "\n",
        "soma = numero1 = numero2\n",
        "\n",
        "if soma % 2 == 0:\n",
        "  vencedor = 'par'\n",
        "else:\n",
        "  vencedor = 'ímpar'\n",
        "\n",
        "if vencedor == escolha:\n",
        "  print(f'// {primeiro_jogador} venceu!')\n",
        "else:\n",
        "  print(f'// {segundo_jogador} venceu!')"
      ],
      "metadata": {
        "colab": {
          "base_uri": "https://localhost:8080/"
        },
        "id": "FE6TZalfZlj2",
        "outputId": "04f25db9-b429-4b8a-9f94-46375ba73b36"
      },
      "execution_count": null,
      "outputs": [
        {
          "output_type": "stream",
          "name": "stdout",
          "text": [
            "-> Digite o nome do primeiro jogador:Felipe\n",
            "-> Digite o nome do segundo jogador:Ana\n",
            "// Quem escolhe primeiro, Felipe ou Ana?\n",
            "-> Digite 1 para escolher Felipe ou 2 para escolher Ana.1\n",
            "// Digite 0 para escolher PAR ou 1 para escolher ÍMPAR\n",
            "-> Felipe, você quer par ou impar?0\n",
            "// Ana, você ficou com ímpar.\n",
            "-> Felipe, escolha um número:2\n",
            "-> Ana, escolha um número:3\n",
            "// Ana venceu!\n"
          ]
        }
      ]
    }
  ]
}